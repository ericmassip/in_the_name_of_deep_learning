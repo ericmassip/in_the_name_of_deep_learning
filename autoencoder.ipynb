{
 "cells": [
  {
   "cell_type": "markdown",
   "metadata": {},
   "source": [
    "## IMPORT DATASET\n",
    "    - 2 classes. cats and dogs\n",
    "    - image size = 64\n",
    "    - image in gray scale\n"
   ]
  },
  {
   "cell_type": "code",
   "execution_count": 96,
   "metadata": {},
   "outputs": [],
   "source": [
    "from lxml import etree\n",
    "import numpy as np\n",
    "import os\n",
    "from skimage import io\n",
    "from skimage.transform import resize\n",
    "\n",
    "# parameters that you should set before running this script\n",
    "filter = ['cat', 'dog']       # select class, this default should yield 1489 training and 1470 validation images\n",
    "# voc_root_folder = \"/Users/ericmassip/Projects/MAI/2nd_semester/CV/Project/VOCdevkit/\"  # please replace with the location on your laptop where you unpacked the tarball\n",
    "voc_root_folder = \"C:/Users/Manuel/Documents/MANUEL/KU_LEUVEN_MASTER/COURSES/CV/project/VOCdevkit/\"\n",
    "image_size = 64    # image size that you will use for your network (input images will be resampled to this size), lower if you have troubles on your laptop (hint: use io.imshow to inspect the quality of the resampled images before feeding it into your network!)\n",
    "\n",
    "\n",
    "# step1 - build list of filtered filenames\n",
    "annotation_folder = os.path.join(voc_root_folder, \"VOC2009/Annotations/\")\n",
    "annotation_files = os.listdir(annotation_folder)\n",
    "filtered_filenames = []\n",
    "for a_f in annotation_files:\n",
    "    tree = etree.parse(os.path.join(annotation_folder, a_f))\n",
    "    if np.any([tag.text == filt for tag in tree.iterfind(\".//name\") for filt in filter]):\n",
    "        filtered_filenames.append(a_f[:-4])\n",
    "\n",
    "# step2 - build (x,y) for TRAIN/VAL (classification)\n",
    "classes_folder = os.path.join(voc_root_folder, \"VOC2009/ImageSets/Main/\")\n",
    "classes_files = os.listdir(classes_folder)\n",
    "train_files = [os.path.join(classes_folder, c_f) for filt in filter for c_f in classes_files if filt in c_f and '_train.txt' in c_f]\n",
    "val_files = [os.path.join(classes_folder, c_f) for filt in filter for c_f in classes_files if filt in c_f and '_val.txt' in c_f]"
   ]
  },
  {
   "cell_type": "code",
   "execution_count": 97,
   "metadata": {},
   "outputs": [],
   "source": [
    "def build_classification_dataset(list_of_files):\n",
    "    \"\"\" build training or validation set\n",
    "\n",
    "    :param list_of_files: list of filenames to build trainset with\n",
    "    :return: tuple with x np.ndarray of shape (n_images, image_size, image_size, 3) and  y np.ndarray of shape (n_images, n_classes)\n",
    "    \"\"\"\n",
    "    temp = []\n",
    "    train_labels = []\n",
    "    for f_cf in list_of_files:\n",
    "        with open(f_cf) as file:\n",
    "            lines = file.read().splitlines()\n",
    "            temp.append([line.split()[0] for line in lines if int(line.split()[-1]) == 1])\n",
    "            label_id = [f_ind for f_ind, filt in enumerate(filter) if filt in f_cf][0]\n",
    "            train_labels.append(len(temp[-1]) * [label_id])\n",
    "    train_filter = [item for l in temp for item in l]\n",
    "\n",
    "    image_folder = os.path.join(voc_root_folder, \"VOC2009/JPEGImages/\")\n",
    "    image_filenames = [os.path.join(image_folder, file) for f in train_filter for file in os.listdir(image_folder) if\n",
    "                       f in file]\n",
    "    x = np.array([resize(io.imread(img_f), (image_size, image_size, 3)) for img_f in image_filenames]).astype(\n",
    "        'float32')\n",
    "    # changed y to an array of shape (num_examples, num_classes) with 0 if class is not present and 1 if class is present\n",
    "    y_temp = []\n",
    "    for tf in train_filter:\n",
    "        y_temp.append([1 if tf in l else 0 for l in temp])\n",
    "    y = np.array(y_temp)\n",
    "\n",
    "    return x, y"
   ]
  },
  {
   "cell_type": "code",
   "execution_count": 98,
   "metadata": {},
   "outputs": [
    {
     "name": "stderr",
     "output_type": "stream",
     "text": [
      "C:\\Users\\Manuel\\Anaconda2\\envs\\CV\\lib\\site-packages\\skimage\\transform\\_warps.py:105: UserWarning: The default mode, 'constant', will be changed to 'reflect' in skimage 0.15.\n",
      "  warn(\"The default mode, 'constant', will be changed to 'reflect' in \"\n",
      "C:\\Users\\Manuel\\Anaconda2\\envs\\CV\\lib\\site-packages\\skimage\\transform\\_warps.py:110: UserWarning: Anti-aliasing will be enabled by default in skimage 0.15 to avoid aliasing artifacts when down-sampling images.\n",
      "  warn(\"Anti-aliasing will be enabled by default in skimage 0.15 to \"\n"
     ]
    },
    {
     "name": "stdout",
     "output_type": "stream",
     "text": [
      "582 training images from 2 classes\n",
      "610 validation images from 2 classes\n"
     ]
    }
   ],
   "source": [
    "x_train, y_train = build_classification_dataset(train_files)\n",
    "print('%i training images from %i classes' %(x_train.shape[0], y_train.shape[1]))\n",
    "x_val, y_val = build_classification_dataset(val_files)\n",
    "print('%i validation images from %i classes' %(x_val.shape[0],  y_train.shape[1]))"
   ]
  },
  {
   "cell_type": "code",
   "execution_count": 99,
   "metadata": {},
   "outputs": [],
   "source": [
    "import matplotlib.pyplot as plt\n",
    "import cv2\n",
    "\n",
    "def convert_to_grayscale(images):\n",
    "    return np.array([cv2.cvtColor(image, cv2.COLOR_BGR2GRAY) for image in images])"
   ]
  },
  {
   "cell_type": "code",
   "execution_count": 100,
   "metadata": {},
   "outputs": [],
   "source": [
    "x_train_gray = convert_to_grayscale(x_train)\n",
    "x_val_gray = convert_to_grayscale(x_val)"
   ]
  },
  {
   "cell_type": "code",
   "execution_count": 101,
   "metadata": {},
   "outputs": [
    {
     "data": {
      "text/plain": [
       "<matplotlib.image.AxesImage at 0x2ba4a340470>"
      ]
     },
     "execution_count": 101,
     "metadata": {},
     "output_type": "execute_result"
    },
    {
     "data": {
      "image/png": "[encoded data removed]",
      "text/plain": [
       "<Figure size 432x288 with 2 Axes>"
      ]
     },
     "metadata": {
      "needs_background": "light"
     },
     "output_type": "display_data"
    }
   ],
   "source": [
    "plt.subplot(121)\n",
    "plt.title('Cat')\n",
    "plt.imshow(x_train_gray[0], cmap='gray')\n",
    "plt.subplot(122)\n",
    "plt.title('Dog')\n",
    "plt.imshow(x_train_gray[1], cmap='gray')\n"
   ]
  },
  {
   "cell_type": "markdown",
   "metadata": {},
   "source": [
    "# AUTOENCODER\n",
    "    - convolutional autoencoder.\n",
    "    - reshape layer to get the coding variable"
   ]
  },
  {
   "cell_type": "code",
   "execution_count": 110,
   "metadata": {
    "scrolled": true
   },
   "outputs": [
    {
     "name": "stdout",
     "output_type": "stream",
     "text": [
      "Train on 582 samples, validate on 610 samples\n",
      "Epoch 1/5\n",
      "582/582 [==============================] - 19s 32ms/step - loss: 0.0641 - val_loss: 0.0393\n",
      "Epoch 2/5\n",
      "582/582 [==============================] - 19s 32ms/step - loss: 0.0407 - val_loss: 0.0363\n",
      "Epoch 3/5\n",
      "582/582 [==============================] - 18s 32ms/step - loss: 0.0333 - val_loss: 0.0370\n",
      "Epoch 4/5\n",
      "582/582 [==============================] - 18s 32ms/step - loss: 0.0302 - val_loss: 0.0329\n",
      "Epoch 5/5\n",
      "582/582 [==============================] - 19s 32ms/step - loss: 0.0283 - val_loss: 0.0262\n"
     ]
    }
   ],
   "source": [
    "import tensorflow as tf\n",
    "from keras.layers import Input,Conv2D,MaxPooling2D,UpSampling2D,Reshape\n",
    "from keras.models import Model\n",
    "from keras.optimizers import RMSprop\n",
    "\n",
    "\n",
    "batch_size = 128\n",
    "epochs = 10\n",
    "inChannel = 1\n",
    "x, y = 64, 64\n",
    "input_img = Input(shape = (x, y, inChannel))\n",
    "\n",
    "x_train_gray = np.reshape(x_train_gray,(-1,64,64,1))\n",
    "x_val_gray = np.reshape(x_val_gray,(-1,64,64,1))\n",
    "    \n",
    "def autoencoder(input_img):\n",
    "    #encoder\n",
    "    #input = 28 x 28 x 1 (wide and thin)\n",
    "    conv1 = Conv2D(32, (3, 3), activation='relu', padding='same')(input_img) #28 x 28 x 32\n",
    "    pool1 = MaxPooling2D(pool_size=(2, 2))(conv1) #14 x 14 x 32\n",
    "    conv2 = Conv2D(64, (3, 3), activation='relu', padding='same')(pool1) #14 x 14 x 64\n",
    "    pool2 = MaxPooling2D(pool_size=(4, 4))(conv2) #7 x 7 x 64\n",
    "    conv3 = Conv2D(8, (3, 3), activation='relu', padding='same')(pool2) #7 x 7 x 128 (small and thick)\n",
    "    \n",
    "    resh1 = Reshape((512,1,1),)(conv3)\n",
    "    resh2 = Reshape((8,8,8))(resh1)\n",
    "\n",
    "    #decoder\n",
    "    conv4 = Conv2D(8, (3, 3), activation='relu', padding='same')(resh2) #7 x 7 x 128\n",
    "    up1 = UpSampling2D((4,4))(conv4) # 14 x 14 x 128\n",
    "    conv5 = Conv2D(64, (3, 3), activation='relu', padding='same')(up1) # 14 x 14 x 64\n",
    "    up2 = UpSampling2D((2,2))(conv5) # 28 x 28 x 64\n",
    "    decoded = Conv2D(1, (3, 3), activation='sigmoid', padding='same')(up2) # 28 x 28 x 1\n",
    "    return decoded\n",
    "\n",
    "autoencoder = Model(input_img, autoencoder(input_img))\n",
    "autoencoder.compile(loss='mean_squared_error', optimizer = RMSprop())\n",
    "autoencoder_train = autoencoder.fit(x_train_gray, x_train_gray, epochs=epochs,verbose=1,validation_data=(x_val_gray, x_val_gray))\n",
    "\n"
   ]
  },
  {
   "cell_type": "code",
   "execution_count": 111,
   "metadata": {},
   "outputs": [
    {
     "name": "stdout",
     "output_type": "stream",
     "text": [
      "_________________________________________________________________\n",
      "Layer (type)                 Output Shape              Param #   \n",
      "=================================================================\n",
      "input_39 (InputLayer)        (None, 64, 64, 1)         0         \n",
      "_________________________________________________________________\n",
      "conv2d_163 (Conv2D)          (None, 64, 64, 32)        320       \n",
      "_________________________________________________________________\n",
      "max_pooling2d_77 (MaxPooling (None, 32, 32, 32)        0         \n",
      "_________________________________________________________________\n",
      "conv2d_164 (Conv2D)          (None, 32, 32, 64)        18496     \n",
      "_________________________________________________________________\n",
      "max_pooling2d_78 (MaxPooling (None, 8, 8, 64)          0         \n",
      "_________________________________________________________________\n",
      "conv2d_165 (Conv2D)          (None, 8, 8, 8)           4616      \n",
      "_________________________________________________________________\n",
      "reshape_50 (Reshape)         (None, 512, 1, 1)         0         \n",
      "_________________________________________________________________\n",
      "reshape_51 (Reshape)         (None, 8, 8, 8)           0         \n",
      "_________________________________________________________________\n",
      "conv2d_166 (Conv2D)          (None, 8, 8, 8)           584       \n",
      "_________________________________________________________________\n",
      "up_sampling2d_33 (UpSampling (None, 32, 32, 8)         0         \n",
      "_________________________________________________________________\n",
      "conv2d_167 (Conv2D)          (None, 32, 32, 64)        4672      \n",
      "_________________________________________________________________\n",
      "up_sampling2d_34 (UpSampling (None, 64, 64, 64)        0         \n",
      "_________________________________________________________________\n",
      "conv2d_168 (Conv2D)          (None, 64, 64, 1)         577       \n",
      "=================================================================\n",
      "Total params: 29,265\n",
      "Trainable params: 29,265\n",
      "Non-trainable params: 0\n",
      "_________________________________________________________________\n"
     ]
    }
   ],
   "source": [
    "autoencoder.summary()"
   ]
  },
  {
   "cell_type": "code",
   "execution_count": 112,
   "metadata": {},
   "outputs": [],
   "source": [
    "output = autoencoder.predict(x_val_gray)"
   ]
  },
  {
   "cell_type": "code",
   "execution_count": 113,
   "metadata": {},
   "outputs": [],
   "source": [
    "output_resh = np.reshape(output,(-1,64,64))\n",
    "x_val_gray_resh = np.reshape(x_val_gray,(-1,64,64))"
   ]
  },
  {
   "cell_type": "code",
   "execution_count": 114,
   "metadata": {},
   "outputs": [
    {
     "data": {
      "text/plain": [
       "<matplotlib.image.AxesImage at 0x2ba49844cf8>"
      ]
     },
     "execution_count": 114,
     "metadata": {},
     "output_type": "execute_result"
    },
    {
     "data": {
      "image/png": "[encoded data removed]",
      "text/plain": [
       "<Figure size 432x288 with 2 Axes>"
      ]
     },
     "metadata": {
      "needs_background": "light"
     },
     "output_type": "display_data"
    }
   ],
   "source": [
    "plt.subplot(121)\n",
    "plt.title('Output')\n",
    "plt.imshow(output_resh[0], cmap='gray')\n",
    "plt.subplot(122)\n",
    "plt.title('Original')\n",
    "plt.imshow(x_val_gray_resh[0], cmap='gray')"
   ]
  }
 ],
 "metadata": {
  "kernelspec": {
   "display_name": "Python 3",
   "language": "python",
   "name": "python3"
  },
  "language_info": {
   "codemirror_mode": {
    "name": "ipython",
    "version": 3
   },
   "file_extension": ".py",
   "mimetype": "text/x-python",
   "name": "python",
   "nbconvert_exporter": "python",
   "pygments_lexer": "ipython3",
   "version": "3.5.6"
  }
 },
 "nbformat": 4,
 "nbformat_minor": 2
}
